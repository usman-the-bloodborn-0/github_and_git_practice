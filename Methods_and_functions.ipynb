{
  "nbformat": 4,
  "nbformat_minor": 0,
  "metadata": {
    "colab": {
      "provenance": [],
      "authorship_tag": "ABX9TyNm8LaL2PjGQCLI6adpmOdg",
      "include_colab_link": true
    },
    "kernelspec": {
      "name": "python3",
      "display_name": "Python 3"
    },
    "language_info": {
      "name": "python"
    }
  },
  "cells": [
    {
      "cell_type": "markdown",
      "metadata": {
        "id": "view-in-github",
        "colab_type": "text"
      },
      "source": [
        "<a href=\"https://colab.research.google.com/github/usman-the-bloodborn-0/github_and_git_practice/blob/main/Methods_and_functions.ipynb\" target=\"_parent\"><img src=\"https://colab.research.google.com/assets/colab-badge.svg\" alt=\"Open In Colab\"/></a>"
      ]
    },
    {
      "cell_type": "code",
      "execution_count": null,
      "metadata": {
        "id": "iXnFh-jeAWX0"
      },
      "outputs": [],
      "source": [
        "# Creating a list\n",
        "fruits = ['apple', 'banana', 'cherry']\n",
        "\n",
        "len(fruits)            # 3\n",
        "max([1, 5, 2])         # 5\n",
        "min([1, 5, 2])         # 1\n",
        "sum([1, 2, 3])         # 6\n",
        "sorted(fruits)         # ['apple', 'banana', 'cherry']\n",
        "list('abc')            # ['a', 'b', 'c']\n",
        "\n",
        "fruits.append('orange')       # ['apple', 'banana', 'cherry', 'orange']\n",
        "fruits.extend(['kiwi', 'melon'])\n",
        "fruits.insert(1, 'grape')     # Inserts at index 1\n",
        "fruits.remove('banana')       # Removes first occurrence\n",
        "fruits.pop()                  # Removes last item\n",
        "fruits.clear()                # Clears all items\n",
        "fruits = ['apple', 'apple', 'banana']\n",
        "fruits.count('apple')         # 2\n",
        "fruits.index('banana')        # 2\n",
        "fruits.reverse()              # In-place reverse\n",
        "fruits.sort()                 # In-place sort"
      ]
    },
    {
      "cell_type": "markdown",
      "source": [
        "# New Section"
      ],
      "metadata": {
        "id": "PW4RbGendm44"
      }
    },
    {
      "cell_type": "code",
      "source": [
        "t = (1, 2, 3, 2)\n",
        "\n",
        "len(t)          # 4\n",
        "max(t)          # 3\n",
        "min(t)          # 1\n",
        "sum(t)          # 8\n",
        "tuple([1, 2])   # (1, 2)\n",
        "\n",
        "t.count(2)      # 2\n",
        "t.index(3)      # 2"
      ],
      "metadata": {
        "colab": {
          "base_uri": "https://localhost:8080/"
        },
        "id": "4Pv8p5vAAxNy",
        "outputId": "bcd53298-a0eb-4dc4-c37b-2d3f2be862b7"
      },
      "execution_count": null,
      "outputs": [
        {
          "output_type": "execute_result",
          "data": {
            "text/plain": [
              "2"
            ]
          },
          "metadata": {},
          "execution_count": 4
        }
      ]
    },
    {
      "cell_type": "code",
      "source": [
        "s = \" Hello, World! \"\n",
        "\n",
        "len(s)              # 15\n",
        "max(\"abc\")          # 'c'\n",
        "str(123)            # \"123\"\n",
        "list(\"hi\")          # ['h', 'i']\n",
        "\n",
        "s.lower()           # \" hello, world! \"\n",
        "s.upper()           # \" HELLO, WORLD! \"\n",
        "s.strip()           # \"Hello, World!\"\n",
        "s.replace(\"World\", \"Python\")  # \" Hello, Python! \"\n",
        "s.split(\",\")        # [' Hello', ' World! ']\n",
        "\",\".join(['a', 'b'])  # 'a,b'\n",
        "s.find(\"World\")     # 8\n",
        "s.startswith(\" H\")  # True\n",
        "\"abc123\".isalnum()  # True\n",
        "\"123\".isdigit()     # True\n",
        "s.count(\"l\")        # 3\n",
        "\"{}, {}\".format(\"Hi\", \"there\")  # \"Hi, there\""
      ],
      "metadata": {
        "colab": {
          "base_uri": "https://localhost:8080/",
          "height": 35
        },
        "id": "LoA0vc_ORDrZ",
        "outputId": "b9157bb1-039e-4aad-91cb-16d7f7db2bc7"
      },
      "execution_count": null,
      "outputs": [
        {
          "output_type": "execute_result",
          "data": {
            "text/plain": [
              "'Hi, there'"
            ],
            "application/vnd.google.colaboratory.intrinsic+json": {
              "type": "string"
            }
          },
          "metadata": {},
          "execution_count": 1
        }
      ]
    },
    {
      "cell_type": "code",
      "source": [
        "s = {1, 2, 3}\n",
        "\n",
        "len(s)             # 3\n",
        "max(s)             # 3\n",
        "set(\"abc\")         # {'a', 'b', 'c'}\n",
        "\n",
        "s.add(4)           # {1, 2, 3, 4}\n",
        "s.remove(2)        # Removes 2, error if not found\n",
        "s.discard(5)       # No error if 5 not found\n",
        "s.pop()            # Removes random item\n",
        "s.clear()          # Empty set\n",
        "a = {1, 2}; b = {2, 3}\n",
        "a.union(b)         # {1, 2, 3}\n",
        "a.intersection(b)  # {2}\n",
        "a.difference(b)    # {1}\n",
        "a.symmetric_difference(b)  # {1, 3}\n",
        "a.issubset(b)      # False\n",
        "a.issuperset(b)    # False"
      ],
      "metadata": {
        "colab": {
          "base_uri": "https://localhost:8080/"
        },
        "id": "rwn6KstnXXZs",
        "outputId": "519be693-aced-45b0-aa78-f7b578e269c3"
      },
      "execution_count": null,
      "outputs": [
        {
          "output_type": "execute_result",
          "data": {
            "text/plain": [
              "False"
            ]
          },
          "metadata": {},
          "execution_count": 2
        }
      ]
    },
    {
      "cell_type": "code",
      "source": [
        "d = {'name': 'Alice', 'age': 25}\n",
        "\n",
        "len(d)               # 2\n",
        "dict(name=\"Bob\")     # {'name': 'Bob'}\n",
        "\n",
        "d.get('name')            # 'Alice'\n",
        "d.keys()                 # dict_keys(['name', 'age'])\n",
        "d.values()               # dict_values(['Alice', 25])\n",
        "d.items()                # dict_items([('name', 'Alice'), ('age', 25)])\n",
        "d.update({'age': 26})    # Update value\n",
        "d.pop('age')             # Removes and returns 'age'\n",
        "d.popitem()              # Removes last inserted item\n",
        "d.setdefault('city', 'NY')  # Adds 'city' if not exists\n",
        "d.clear()                # Removes everything"
      ],
      "metadata": {
        "id": "NNS1E-A2XgAl"
      },
      "execution_count": null,
      "outputs": []
    },
    {
      "cell_type": "code",
      "source": [
        "x = [1, 2, 3]\n",
        "\n",
        "type(x)          # <class 'list'>\n",
        "id(x)            # Memory address\n",
        "isinstance(x, list)   # True\n",
        "repr(x)          # '[1, 2, 3]'\n",
        "str(x)           # '[1, 2, 3]'\n",
        "print(x)         # [1, 2, 3]\n",
        "input(\"Enter: \") # Takes user input as string"
      ],
      "metadata": {
        "colab": {
          "base_uri": "https://localhost:8080/",
          "height": 70
        },
        "id": "O6t_Sc2BXlu4",
        "outputId": "16d68e4c-4fca-458c-846e-9f70e43a3c95"
      },
      "execution_count": null,
      "outputs": [
        {
          "name": "stdout",
          "output_type": "stream",
          "text": [
            "[1, 2, 3]\n",
            "Enter: Usman\n"
          ]
        },
        {
          "output_type": "execute_result",
          "data": {
            "text/plain": [
              "'Usman'"
            ],
            "application/vnd.google.colaboratory.intrinsic+json": {
              "type": "string"
            }
          },
          "metadata": {},
          "execution_count": 4
        }
      ]
    },
    {
      "cell_type": "code",
      "source": [
        "print('C:\\\\Users\\\\Admin\\\\Documents\\\\file.txt')"
      ],
      "metadata": {
        "colab": {
          "base_uri": "https://localhost:8080/"
        },
        "id": "xTTDsug9Xqo2",
        "outputId": "932232c8-e90a-41b8-a3cc-f6b2a418f192"
      },
      "execution_count": null,
      "outputs": [
        {
          "output_type": "stream",
          "name": "stdout",
          "text": [
            "C:\\Users\\Admin\\Documents\\file.txt\n"
          ]
        }
      ]
    },
    {
      "cell_type": "code",
      "source": [
        "print(r'C:\\\\dyyu\\\\.txt')"
      ],
      "metadata": {
        "colab": {
          "base_uri": "https://localhost:8080/"
        },
        "id": "2S_ZJpQkQp7L",
        "outputId": "d8a1398c-72ce-4054-d3e9-25aeb47a91bc"
      },
      "execution_count": null,
      "outputs": [
        {
          "output_type": "stream",
          "name": "stdout",
          "text": [
            "C:\\\\dyyu\\\\.txt\n"
          ]
        }
      ]
    },
    {
      "cell_type": "code",
      "source": [
        "isinstance(False, int)"
      ],
      "metadata": {
        "colab": {
          "base_uri": "https://localhost:8080/"
        },
        "id": "V4nxnQ2mQ2hF",
        "outputId": "121a3e27-a7dc-4485-e35b-a700dbadee0b"
      },
      "execution_count": null,
      "outputs": [
        {
          "output_type": "execute_result",
          "data": {
            "text/plain": [
              "True"
            ]
          },
          "metadata": {},
          "execution_count": 9
        }
      ]
    },
    {
      "cell_type": "code",
      "source": [
        "for i in range(3):\n",
        "  if i == 1:\n",
        "   pass\n",
        "  print(i)"
      ],
      "metadata": {
        "colab": {
          "base_uri": "https://localhost:8080/"
        },
        "id": "8boXkUtvSlnA",
        "outputId": "fe1f1911-6764-48a8-af8b-e30036d5cd03"
      },
      "execution_count": null,
      "outputs": [
        {
          "output_type": "stream",
          "name": "stdout",
          "text": [
            "0\n",
            "1\n",
            "2\n"
          ]
        }
      ]
    },
    {
      "cell_type": "code",
      "source": [
        "a = (1, 3)\n",
        "help(max)"
      ],
      "metadata": {
        "colab": {
          "base_uri": "https://localhost:8080/"
        },
        "id": "Oddn-RhwVLHS",
        "outputId": "2026e7a1-cb22-4831-a252-54f9657dc522"
      },
      "execution_count": null,
      "outputs": [
        {
          "output_type": "stream",
          "name": "stdout",
          "text": [
            "Help on built-in function max in module builtins:\n",
            "\n",
            "max(...)\n",
            "    max(iterable, *[, default=obj, key=func]) -> value\n",
            "    max(arg1, arg2, *args, *[, key=func]) -> value\n",
            "    \n",
            "    With a single iterable argument, return its biggest item. The\n",
            "    default keyword-only argument specifies an object to return if\n",
            "    the provided iterable is empty.\n",
            "    With two or more arguments, return the largest argument.\n",
            "\n"
          ]
        }
      ]
    },
    {
      "cell_type": "markdown",
      "source": [
        "# New Section"
      ],
      "metadata": {
        "id": "pycQ-Q0KgJCA"
      }
    },
    {
      "cell_type": "markdown",
      "source": [
        "# New Section"
      ],
      "metadata": {
        "id": "_PL4S2dkgJrw"
      }
    },
    {
      "cell_type": "code",
      "source": [
        "for i in range(3):\n",
        "  if i == 1:\n",
        "    pass\n",
        "  print(i)"
      ],
      "metadata": {
        "colab": {
          "base_uri": "https://localhost:8080/"
        },
        "id": "VR7a7O0CZR_X",
        "outputId": "4ed12339-d9df-4c69-9e37-1e9b8363c7ac"
      },
      "execution_count": null,
      "outputs": [
        {
          "output_type": "stream",
          "name": "stdout",
          "text": [
            "0\n",
            "1\n",
            "2\n"
          ]
        }
      ]
    },
    {
      "cell_type": "code",
      "source": [],
      "metadata": {
        "id": "aoXwGkVRgQBm"
      },
      "execution_count": null,
      "outputs": []
    }
  ]
}