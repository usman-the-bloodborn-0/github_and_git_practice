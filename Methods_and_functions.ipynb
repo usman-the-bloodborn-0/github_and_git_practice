{
  "nbformat": 4,
  "nbformat_minor": 0,
  "metadata": {
    "colab": {
      "provenance": [],
      "authorship_tag": "ABX9TyN452r3vTaKUNbfSHVSJZqf",
      "include_colab_link": true
    },
    "kernelspec": {
      "name": "python3",
      "display_name": "Python 3"
    },
    "language_info": {
      "name": "python"
    }
  },
  "cells": [
    {
      "cell_type": "markdown",
      "metadata": {
        "id": "view-in-github",
        "colab_type": "text"
      },
      "source": [
        "<a href=\"https://colab.research.google.com/github/usman-the-bloodborn-0/github_and_git_practice/blob/main/Methods_and_functions.ipynb\" target=\"_parent\"><img src=\"https://colab.research.google.com/assets/colab-badge.svg\" alt=\"Open In Colab\"/></a>"
      ]
    },
    {
      "cell_type": "code",
      "execution_count": null,
      "metadata": {
        "id": "iXnFh-jeAWX0"
      },
      "outputs": [],
      "source": [
        "# Creating a list\n",
        "fruits = ['apple', 'banana', 'cherry']\n",
        "\n",
        "len(fruits)            # 3\n",
        "max([1, 5, 2])         # 5\n",
        "min([1, 5, 2])         # 1\n",
        "sum([1, 2, 3])         # 6\n",
        "sorted(fruits)         # ['apple', 'banana', 'cherry']\n",
        "list('abc')            # ['a', 'b', 'c']\n",
        "\n",
        "fruits.append('orange')       # ['apple', 'banana', 'cherry', 'orange']\n",
        "fruits.extend(['kiwi', 'melon'])\n",
        "fruits.insert(1, 'grape')     # Inserts at index 1\n",
        "fruits.remove('banana')       # Removes first occurrence\n",
        "fruits.pop()                  # Removes last item\n",
        "fruits.clear()                # Clears all items\n",
        "fruits = ['apple', 'apple', 'banana']\n",
        "fruits.count('apple')         # 2\n",
        "fruits.index('banana')        # 2\n",
        "fruits.reverse()              # In-place reverse\n",
        "fruits.sort()                 # In-place sort"
      ]
    },
    {
      "cell_type": "markdown",
      "source": [
        "# New Section"
      ],
      "metadata": {
        "id": "PW4RbGendm44"
      }
    },
    {
      "cell_type": "code",
      "source": [
        "t = (1, 2, 3, 2)\n",
        "\n",
        "len(t)          # 4\n",
        "max(t)          # 3\n",
        "min(t)          # 1\n",
        "sum(t)          # 8\n",
        "tuple([1, 2])   # (1, 2)\n",
        "\n",
        "t.count(2)      # 2\n",
        "t.index(3)      # 2"
      ],
      "metadata": {
        "colab": {
          "base_uri": "https://localhost:8080/"
        },
        "id": "4Pv8p5vAAxNy",
        "outputId": "bcd53298-a0eb-4dc4-c37b-2d3f2be862b7"
      },
      "execution_count": null,
      "outputs": [
        {
          "output_type": "execute_result",
          "data": {
            "text/plain": [
              "2"
            ]
          },
          "metadata": {},
          "execution_count": 4
        }
      ]
    },
    {
      "cell_type": "code",
      "source": [
        "s = \" Hello, World! \"\n",
        "\n",
        "len(s)              # 15\n",
        "max(\"abc\")          # 'c'\n",
        "str(123)            # \"123\"\n",
        "list(\"hi\")          # ['h', 'i']\n",
        "\n",
        "s.lower()           # \" hello, world! \"\n",
        "s.upper()           # \" HELLO, WORLD! \"\n",
        "s.strip()           # \"Hello, World!\"\n",
        "s.replace(\"World\", \"Python\")  # \" Hello, Python! \"\n",
        "s.split(\",\")        # [' Hello', ' World! ']\n",
        "\",\".join(['a', 'b'])  # 'a,b'\n",
        "s.find(\"World\")     # 8\n",
        "s.startswith(\" H\")  # True\n",
        "\"abc123\".isalnum()  # True\n",
        "\"123\".isdigit()     # True\n",
        "s.count(\"l\")        # 3\n",
        "\"{}, {}\".format(\"Hi\", \"there\")  # \"Hi, there\""
      ],
      "metadata": {
        "colab": {
          "base_uri": "https://localhost:8080/",
          "height": 35
        },
        "id": "LoA0vc_ORDrZ",
        "outputId": "b9157bb1-039e-4aad-91cb-16d7f7db2bc7"
      },
      "execution_count": null,
      "outputs": [
        {
          "output_type": "execute_result",
          "data": {
            "text/plain": [
              "'Hi, there'"
            ],
            "application/vnd.google.colaboratory.intrinsic+json": {
              "type": "string"
            }
          },
          "metadata": {},
          "execution_count": 1
        }
      ]
    },
    {
      "cell_type": "code",
      "source": [
        "s = {1, 2, 3}\n",
        "\n",
        "len(s)             # 3\n",
        "max(s)             # 3\n",
        "set(\"abc\")         # {'a', 'b', 'c'}\n",
        "\n",
        "s.add(4)           # {1, 2, 3, 4}\n",
        "s.remove(2)        # Removes 2, error if not found\n",
        "s.discard(5)       # No error if 5 not found\n",
        "s.pop()            # Removes random item\n",
        "s.clear()          # Empty set\n",
        "a = {1, 2}; b = {2, 3}\n",
        "a.union(b)         # {1, 2, 3}\n",
        "a.intersection(b)  # {2}\n",
        "a.difference(b)    # {1}\n",
        "a.symmetric_difference(b)  # {1, 3}\n",
        "a.issubset(b)      # False\n",
        "a.issuperset(b)    # False"
      ],
      "metadata": {
        "colab": {
          "base_uri": "https://localhost:8080/"
        },
        "id": "rwn6KstnXXZs",
        "outputId": "519be693-aced-45b0-aa78-f7b578e269c3"
      },
      "execution_count": null,
      "outputs": [
        {
          "output_type": "execute_result",
          "data": {
            "text/plain": [
              "False"
            ]
          },
          "metadata": {},
          "execution_count": 2
        }
      ]
    },
    {
      "cell_type": "code",
      "source": [
        "d = {'name': 'Alice', 'age': 25}\n",
        "\n",
        "len(d)               # 2\n",
        "dict(name=\"Bob\")     # {'name': 'Bob'}\n",
        "\n",
        "d.get('name')            # 'Alice'\n",
        "d.keys()                 # dict_keys(['name', 'age'])\n",
        "d.values()               # dict_values(['Alice', 25])\n",
        "d.items()                # dict_items([('name', 'Alice'), ('age', 25)])\n",
        "d.update({'age': 26})    # Update value\n",
        "d.pop('age')             # Removes and returns 'age'\n",
        "d.popitem()              # Removes last inserted item\n",
        "d.setdefault('city', 'NY')  # Adds 'city' if not exists\n",
        "d.clear()                # Removes everything"
      ],
      "metadata": {
        "id": "NNS1E-A2XgAl"
      },
      "execution_count": null,
      "outputs": []
    },
    {
      "cell_type": "code",
      "source": [
        "x = [1, 2, 3]\n",
        "\n",
        "type(x)          # <class 'list'>\n",
        "id(x)            # Memory address\n",
        "isinstance(x, list)   # True\n",
        "repr(x)          # '[1, 2, 3]'\n",
        "str(x)           # '[1, 2, 3]'\n",
        "print(x)         # [1, 2, 3]\n",
        "input(\"Enter: \") # Takes user input as string"
      ],
      "metadata": {
        "colab": {
          "base_uri": "https://localhost:8080/",
          "height": 70
        },
        "id": "O6t_Sc2BXlu4",
        "outputId": "16d68e4c-4fca-458c-846e-9f70e43a3c95"
      },
      "execution_count": null,
      "outputs": [
        {
          "name": "stdout",
          "output_type": "stream",
          "text": [
            "[1, 2, 3]\n",
            "Enter: Usman\n"
          ]
        },
        {
          "output_type": "execute_result",
          "data": {
            "text/plain": [
              "'Usman'"
            ],
            "application/vnd.google.colaboratory.intrinsic+json": {
              "type": "string"
            }
          },
          "metadata": {},
          "execution_count": 4
        }
      ]
    },
    {
      "cell_type": "code",
      "source": [
        "print(r'C:\\Users\\Admin\\Documents\\file.txt')"
      ],
      "metadata": {
        "colab": {
          "base_uri": "https://localhost:8080/"
        },
        "id": "xTTDsug9Xqo2",
        "outputId": "c60ac1bb-ff7c-492b-adbe-574104018915"
      },
      "execution_count": 4,
      "outputs": [
        {
          "output_type": "stream",
          "name": "stdout",
          "text": [
            "C:\\Users\\Admin\\Documents\\file.txt\n"
          ]
        }
      ]
    },
    {
      "cell_type": "code",
      "source": [
        "print(b'C:\\\\dyyu\\\\.txt')"
      ],
      "metadata": {
        "colab": {
          "base_uri": "https://localhost:8080/"
        },
        "id": "2S_ZJpQkQp7L",
        "outputId": "3a56598c-c32b-46a5-e668-00dddb397e35"
      },
      "execution_count": 7,
      "outputs": [
        {
          "output_type": "stream",
          "name": "stdout",
          "text": [
            "b'C:\\\\dyyu\\\\.txt'\n"
          ]
        }
      ]
    },
    {
      "cell_type": "code",
      "source": [
        "isinstance(False, int)"
      ],
      "metadata": {
        "colab": {
          "base_uri": "https://localhost:8080/"
        },
        "id": "V4nxnQ2mQ2hF",
        "outputId": "121a3e27-a7dc-4485-e35b-a700dbadee0b"
      },
      "execution_count": null,
      "outputs": [
        {
          "output_type": "execute_result",
          "data": {
            "text/plain": [
              "True"
            ]
          },
          "metadata": {},
          "execution_count": 9
        }
      ]
    },
    {
      "cell_type": "code",
      "source": [
        "for i in range(3):\n",
        "  if i == 1:\n",
        "   pass\n",
        "  print(i)"
      ],
      "metadata": {
        "colab": {
          "base_uri": "https://localhost:8080/"
        },
        "id": "8boXkUtvSlnA",
        "outputId": "fe1f1911-6764-48a8-af8b-e30036d5cd03"
      },
      "execution_count": null,
      "outputs": [
        {
          "output_type": "stream",
          "name": "stdout",
          "text": [
            "0\n",
            "1\n",
            "2\n"
          ]
        }
      ]
    },
    {
      "cell_type": "code",
      "source": [
        "a = (1, 3)\n",
        "help(max)"
      ],
      "metadata": {
        "colab": {
          "base_uri": "https://localhost:8080/"
        },
        "id": "Oddn-RhwVLHS",
        "outputId": "2026e7a1-cb22-4831-a252-54f9657dc522"
      },
      "execution_count": null,
      "outputs": [
        {
          "output_type": "stream",
          "name": "stdout",
          "text": [
            "Help on built-in function max in module builtins:\n",
            "\n",
            "max(...)\n",
            "    max(iterable, *[, default=obj, key=func]) -> value\n",
            "    max(arg1, arg2, *args, *[, key=func]) -> value\n",
            "    \n",
            "    With a single iterable argument, return its biggest item. The\n",
            "    default keyword-only argument specifies an object to return if\n",
            "    the provided iterable is empty.\n",
            "    With two or more arguments, return the largest argument.\n",
            "\n"
          ]
        }
      ]
    },
    {
      "cell_type": "markdown",
      "source": [
        "# New Section"
      ],
      "metadata": {
        "id": "pycQ-Q0KgJCA"
      }
    },
    {
      "cell_type": "markdown",
      "source": [
        "# New Section"
      ],
      "metadata": {
        "id": "_PL4S2dkgJrw"
      }
    },
    {
      "cell_type": "code",
      "source": [
        "for i in range(3):\n",
        "  if i == 1:\n",
        "    pass\n",
        "  print(i)"
      ],
      "metadata": {
        "colab": {
          "base_uri": "https://localhost:8080/"
        },
        "id": "VR7a7O0CZR_X",
        "outputId": "4ed12339-d9df-4c69-9e37-1e9b8363c7ac"
      },
      "execution_count": null,
      "outputs": [
        {
          "output_type": "stream",
          "name": "stdout",
          "text": [
            "0\n",
            "1\n",
            "2\n"
          ]
        }
      ]
    },
    {
      "cell_type": "code",
      "source": [
        "fruits = ['apple', 'cherry', 'banana']\n",
        "\n",
        "for index, fruit in enumerate(fruits):\n",
        "    print(fruit)"
      ],
      "metadata": {
        "id": "aoXwGkVRgQBm",
        "outputId": "17601838-d7fa-4f24-9eff-633311c81b99",
        "colab": {
          "base_uri": "https://localhost:8080/"
        }
      },
      "execution_count": 11,
      "outputs": [
        {
          "output_type": "stream",
          "name": "stdout",
          "text": [
            "apple\n",
            "cherry\n",
            "banana\n"
          ]
        }
      ]
    },
    {
      "cell_type": "code",
      "source": [
        "for index, fruit in enumerate(fruits, start=1):\n",
        "    print(index, fruit)"
      ],
      "metadata": {
        "id": "llkO3f-Fd4sq",
        "outputId": "8d023b5c-3746-46aa-f9b9-343d8d7b9bad",
        "colab": {
          "base_uri": "https://localhost:8080/"
        }
      },
      "execution_count": 12,
      "outputs": [
        {
          "output_type": "stream",
          "name": "stdout",
          "text": [
            "1 apple\n",
            "2 cherry\n",
            "3 banana\n"
          ]
        }
      ]
    },
    {
      "cell_type": "code",
      "source": [
        "list(enumerate(fruits))"
      ],
      "metadata": {
        "id": "FBM0Z1L-eMwo",
        "outputId": "96104ed4-01ce-48d3-8364-0cce5a8acef4",
        "colab": {
          "base_uri": "https://localhost:8080/"
        }
      },
      "execution_count": 13,
      "outputs": [
        {
          "output_type": "execute_result",
          "data": {
            "text/plain": [
              "[(0, 'apple'), (1, 'cherry'), (2, 'banana')]"
            ]
          },
          "metadata": {},
          "execution_count": 13
        }
      ]
    },
    {
      "cell_type": "code",
      "source": [
        "word = \"hello\"\n",
        "\n",
        "for index, letter in enumerate(word, start=1000000):\n",
        "    print(f\"Letter {index} is {letter}\")"
      ],
      "metadata": {
        "id": "oK0hIHf0eQYb",
        "outputId": "066d64e1-883d-452a-e391-4d4d00b83646",
        "colab": {
          "base_uri": "https://localhost:8080/"
        }
      },
      "execution_count": 17,
      "outputs": [
        {
          "output_type": "stream",
          "name": "stdout",
          "text": [
            "Letter 1000000 is h\n",
            "Letter 1000001 is e\n",
            "Letter 1000002 is l\n",
            "Letter 1000003 is l\n",
            "Letter 1000004 is o\n"
          ]
        }
      ]
    },
    {
      "cell_type": "code",
      "source": [
        "colors = ('red', 'green', 'blue')\n",
        "\n",
        "for i, color in enumerate(colors):\n",
        "    print(f\"{i}: {color}\")"
      ],
      "metadata": {
        "id": "suGCRfqXeaDx",
        "outputId": "d15ab645-7365-4afe-86a5-52a2cf5bc9e4",
        "colab": {
          "base_uri": "https://localhost:8080/"
        }
      },
      "execution_count": 18,
      "outputs": [
        {
          "output_type": "stream",
          "name": "stdout",
          "text": [
            "0: red\n",
            "1: green\n",
            "2: blue\n"
          ]
        }
      ]
    },
    {
      "cell_type": "code",
      "source": [
        "urls = ['https://site.com/page1', 'https://site.com/page2']\n",
        "\n",
        "for idx, url in enumerate(urls, start=1):\n",
        "    try:\n",
        "        response = requests.get(url)\n",
        "        print(f\"{idx}: Success - {url}\")\n",
        "    except Exception as e:\n",
        "        print(f\"{idx}: Failed to fetch {url} – {str(e)}\")"
      ],
      "metadata": {
        "id": "9j5cRH4gesaP",
        "outputId": "71362379-d50d-4ab4-b2dc-32f95b2ca98f",
        "colab": {
          "base_uri": "https://localhost:8080/"
        }
      },
      "execution_count": 21,
      "outputs": [
        {
          "output_type": "stream",
          "name": "stdout",
          "text": [
            "1: Failed to fetch https://site.com/page1 – name 'requests' is not defined\n",
            "2: Failed to fetch https://site.com/page2 – name 'requests' is not defined\n"
          ]
        }
      ]
    },
    {
      "cell_type": "code",
      "source": [],
      "metadata": {
        "id": "yUD7mZA2e4wq"
      },
      "execution_count": null,
      "outputs": []
    }
  ]
}